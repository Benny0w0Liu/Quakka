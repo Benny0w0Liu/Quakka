{
 "cells": [
  {
   "cell_type": "code",
   "execution_count": 51,
   "metadata": {},
   "outputs": [
    {
     "name": "stdout",
     "output_type": "stream",
     "text": [
      "      @ @                     @ @           \\n    @ ; @   @ @ @ @ @ @ @ @   @ ; @         \\n    @ ; @ @ ; ; ; ; ; ; ; ; @ @ ; @         \\n    @ @ @ ; ; @ ; ; ; @ ; ; ; @ @ @         \\n    @ @ ; ; ; @ ; ; ; @ ; ; ; ; @           \\n    @ ; ; ; ; ; @ @ @ ; ; ; ; ; ; @         \\n  @ @ ; ; ; ; ; @ @ @ ; ; ; ; ; ; @ @       \\n  @ ; ; ; ; @ ; @ @ @ ; @ ; ; ; ; ; @       \\n  @ ; ; ; ; ; @ @ ; @ @ ; ; ; ; ; ; @       \\n  @ ; ; ; ; ; ; ; ; ; ; ; ; ; ; ; ; @       \\n  @ @ ; ; ; ; ; ; ; ; ; ; ; ; ; ; @ @       \\n    @ @ ; ; ; ; ; ; ; ; ; ; ; ; @ @         \\n      @ @ ; ; ; ; ; ; ; ; ; ; @             \\n      @ @ ; ; ; ; ; ; ; ; ; ; @             \\n      @ ; ; @ ; ; ; @ ; ; ; ; ; @ @         \\n    @ ; ; ; ; @ ; @ ; ; ; ; ; ; ; @         \\n    @ ; ; @ ; ; @ ; ; @ ; ; ; ; ; @         \\n    @ ; ; ; @ @ . @ @ . ; ; ; ; ; @         \\n    @ ; ; ; ; ; . . . ; ; ; ; ; ; @         \\n    @ ; ; ; ; ; ; ; ; ; ; ; ; ; ; @         \\n    @ @ ; ; ; ; ; ; ; ; ; ; ; ; ; @         \\n      @ @ ; ; ; ; ; ; ; ; ; ; ; @ @ @       \\n        @ @ @ ; ; ; ; ; ; ; @ @ @ ; ; @     \\n        @ @ @ @ @ @ @ @ @ @ @ @ @ @ ; ; @   \\n        @ @ @               @ @ @   @ @ @   \\n"
     ]
    }
   ],
   "source": [
    "import cv2\n",
    "img = cv2.imread('Quakka_01.png')\n",
    "for i in range(4,29):\n",
    "    for j in range(7,29):\n",
    "        if(img[i][j][0]==0):\n",
    "            print(\"@ \",end=\"\")\n",
    "        elif(img[i][j][0]==122):\n",
    "            print(\"; \",end=\"\")\n",
    "        elif(img[i][j][0]==156):\n",
    "            print(\". \",end=\"\")\n",
    "        else:\n",
    "            print(\"  \",end=\"\")\n",
    "    print(\"\\\\n\",end=\"\")\n",
    "cv2.destroyAllWindows()"
   ]
  }
 ],
 "metadata": {
  "kernelspec": {
   "display_name": "base",
   "language": "python",
   "name": "python3"
  },
  "language_info": {
   "codemirror_mode": {
    "name": "ipython",
    "version": 3
   },
   "file_extension": ".py",
   "mimetype": "text/x-python",
   "name": "python",
   "nbconvert_exporter": "python",
   "pygments_lexer": "ipython3",
   "version": "3.8.5"
  }
 },
 "nbformat": 4,
 "nbformat_minor": 2
}
